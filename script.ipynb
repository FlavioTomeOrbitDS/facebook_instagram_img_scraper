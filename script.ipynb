{
 "cells": [
  {
   "cell_type": "code",
   "execution_count": 32,
   "metadata": {},
   "outputs": [],
   "source": [
    "import re\n",
    "import pandas as pd\n",
    "from selenium import webdriver\n",
    "from selenium.webdriver.common.by import By\n",
    "from time import sleep\n",
    "from selenium.webdriver.chrome.options import Options\n",
    "from selenium.webdriver.support.ui import WebDriverWait\n",
    "from selenium.webdriver.support import expected_conditions as EC\n",
    "from selenium.webdriver.common.keys import Keys\n",
    "\n",
    "chrome_options = Options()\n",
    "#chrome_options.add_argument('--headless')\n",
    "# Desativar a reprodução automática de vídeos\n",
    "chrome_options.add_argument(\"--disable-notifications\")\n",
    "chrome_options.add_argument(\"--disable-extensions\")\n",
    "chrome_options.add_argument(\"--disable-popup-blocking\")\n",
    "chrome_options.add_argument(\"--disable-infobars\")\n",
    "chrome_options.add_argument(\"--autoplay-policy=no-user-gesture-required\")\n",
    "    \n",
    "def getImageSrc(driver, classname):\n",
    "    try:\n",
    "        # Espere até que a imagem seja carregada (substitua 'img#imagem' pelo seletor CSS da imagem)\n",
    "        WebDriverWait(driver, 10).until(\n",
    "            EC.presence_of_element_located(\n",
    "                (By.CLASS_NAME, classname))\n",
    "        )\n",
    "        \n",
    "        try:\n",
    "            close_button = driver.find_element(\n",
    "                By.CLASS_NAME, \"x92rtbv.x10l6tqk.x1tk7jg1.x1vjfegm\")\n",
    "            close_button.click()\n",
    "        except:\n",
    "            None\n",
    "\n",
    "        # Realize ações após o carregamento da imagem        \n",
    "        image_element = driver.find_element(\n",
    "            By.CLASS_NAME, classname)\n",
    "\n",
    "    # You can now interact with the image element as needed, e.g., get its source URL\n",
    "        image_src = image_element.get_attribute(\"src\") \n",
    "        #driver.quit()       \n",
    "        return image_src\n",
    "\n",
    "    except Exception as e:\n",
    "        # Trate a exceção se a imagem não for encontrada ou não carregar\n",
    "        #print(f\"Ocorreu um erro: {str(e)}\")\n",
    "        None\n",
    "\n",
    "    finally:\n",
    "        # Feche o navegador\n",
    "        None\n",
    "\n",
    "    \n",
    "    \n",
    "def verifica_link_social(link):\n",
    "    # Expressões regulares para detectar links do Facebook, Instagram e Reel do Instagram\n",
    "    regex_facebook = r\"^(https?://)?(www\\.)?facebook\\.com/.+\"\n",
    "    regex_instagram = r\"^(https?://)?(www\\.)?instagram\\.com/.+\"\n",
    "    regex_instagram_reel = r\"^(https?://)?(www\\.)?instagram\\.com/reel/.+\"\n",
    "\n",
    "    if re.match(regex_facebook, link):\n",
    "        return \"Facebook\"\n",
    "    elif re.match(regex_instagram_reel, link):\n",
    "        return \"Reel\"\n",
    "    elif re.match(regex_instagram, link):\n",
    "        return \"Instagram\"\n",
    "    else:\n",
    "        return \"Não reconhecido\"\n"
   ]
  },
  {
   "cell_type": "markdown",
   "metadata": {},
   "source": [
    "MAIN"
   ]
  },
  {
   "cell_type": "code",
   "execution_count": 33,
   "metadata": {},
   "outputs": [
    {
     "name": "stdout",
     "output_type": "stream",
     "text": [
      "Extraindo Links da base\n",
      "Foram encontrados 11 links\n",
      "Extraindo Link 0: https://www.facebook.com/310306767869226/posts/617987573767809\n",
      "Extraindo Link 1: https://www.instagram.com/p/CvKYxApuTHf/\n",
      "Extraindo Link 2: https://www.instagram.com/p/CumcMJer2f_/\n",
      "Extraindo Link 3: https://www.instagram.com/p/CufGLVMRKag/\n",
      "Extraindo Link 4: https://www.instagram.com/p/Cu19f2uOE0d/\n",
      "Extraindo Link 5: https://www.instagram.com/p/CuemqrrOdaP/\n",
      "Extraindo Link 6: https://www.facebook.com/565134508303539/posts/839341077549546\n",
      "Extraindo Link 7: https://www.facebook.com/413426427498833/posts/680051817502958\n",
      "Extraindo Link 8: https://www.instagram.com/p/Cu7bCEmLyNg/\n",
      "Extraindo Link 9: https://www.instagram.com/reel/Cuxp0uwAihQ/\n",
      "Extraindo Link 10: https://www.instagram.com/p/CuWuoG9NicY/\n",
      "Operação FInalizada!\n"
     ]
    }
   ],
   "source": [
    "\n",
    "print(\"Extraindo Links da base\")\n",
    "df = pd.read_excel('base.xlsx')\n",
    "\n",
    "#lista de links\n",
    "postLinks_list = df.Link\n",
    "\n",
    "total = len(postLinks_list)\n",
    "print(\"Foram encontrados {} links\".format(total))\n",
    "\n",
    "#Lista de src das imagens\n",
    "imgSrc_List = []\n",
    "\n",
    "a = 0\n",
    "#Percorre a lista de links\n",
    "for i in postLinks_list:\n",
    "   imgSrc = ''\n",
    "   \n",
    "   print(\"Extraindo Link {}: {}\".format(a,i))\n",
    "   a = a+1\n",
    "   \n",
    "   #abre o link no webdriver\n",
    "   driver = webdriver.Chrome(options=chrome_options)\n",
    "   driver.get(i)\n",
    "   \n",
    "   #verifica se é Instagram, Facebook ou Reel do Instagram\n",
    "   page_type = verifica_link_social(i)   \n",
    "   \n",
    "   #para cada tipo de página, procura pela imagem conforme o nome da classe\n",
    "   if page_type == \"Facebook\":\n",
    "    imgSrc = getImageSrc(\n",
    "        driver, \"x1ey2m1c.xds687c.x5yr21d.x10l6tqk.x17qophe.x13vifvy.xh8yej3.xl1xv1r\")\n",
    "   elif page_type == \"Instagram\":\n",
    "      imgSrc = getImageSrc(\n",
    "          driver, \"x5yr21d\")\n",
    "   elif page_type == \"Reel\":\n",
    "      imgSrc = getImageSrc(\n",
    "          driver, \"x5yr21d.xl1xv1r.xh8yej3\")\n",
    "      \n",
    "   imgSrc_List.append(imgSrc)\n",
    "\n",
    "   #Gera o Dataframe de saída\n",
    "   imagesDf = pd.DataFrame(columns=['post_link','img_src'])\n",
    "   imagesDf['img_src'] = imgSrc_List\n",
    "   imagesDf['post_link'] = postLinks_list\n",
    "   imagesDf.to_excel('result_2.xlsx')\n",
    "\n",
    "driver.close()\n",
    "print(\"Operação FInalizada!\")\n"
   ]
  },
  {
   "cell_type": "code",
   "execution_count": 29,
   "metadata": {},
   "outputs": [
    {
     "name": "stdout",
     "output_type": "stream",
     "text": [
      "https://scontent.cdninstagram.com/v/t39.30808-6/347555629_18373830157008581_2887160976031991649_n.jpg?stp=dst-jpg_e35_s1080x1080_sh0.08&_nc_ht=scontent.cdninstagram.com&_nc_cat=105&_nc_ohc=Wjj9xwcxHZYAX8jopBm&edm=APs17CUAAAAA&ccb=7-5&oh=00_AfC5a965QfY1Q8VE0ZNV-Y799-84MEIIvB20wS2QKGa5EQ&oe=65074BD4&_nc_sid=10d13b\n"
     ]
    }
   ],
   "source": [
    "\n",
    "\n",
    "#abre o link\n",
    "driver = webdriver.Chrome(options=chrome_options)\n",
    "driver.get(\"https://www.instagram.com/p/CuMw3eXrqLu/\")\n",
    "\n",
    "imgSrc = getImageSrc(\n",
    "    driver, \"x5yr21d\")\n",
    "\n",
    "print(imgSrc)\n",
    "driver.close()\n"
   ]
  },
  {
   "cell_type": "code",
   "execution_count": 25,
   "metadata": {},
   "outputs": [
    {
     "ename": "InvalidSessionIdException",
     "evalue": "Message: invalid session id\nStacktrace:\n\tGetHandleVerifier [0x00007FF79D1552A2+57122]\n\t(No symbol) [0x00007FF79D0CEA92]\n\t(No symbol) [0x00007FF79CF9E25D]\n\t(No symbol) [0x00007FF79CFCCCFE]\n\t(No symbol) [0x00007FF79CFF6ED2]\n\t(No symbol) [0x00007FF79CFF2E65]\n\t(No symbol) [0x00007FF79CFF2780]\n\t(No symbol) [0x00007FF79CF74270]\n\tGetHandleVerifier [0x00007FF79D3FEF82+2849794]\n\tGetHandleVerifier [0x00007FF79D451D24+3189156]\n\tGetHandleVerifier [0x00007FF79D44ACAF+3160367]\n\tGetHandleVerifier [0x00007FF79D1E6D06+653702]\n\t(No symbol) [0x00007FF79D0DA208]\n\t(No symbol) [0x00007FF79CF730E5]\n\tGetHandleVerifier [0x00007FF79D488E08+3414664]\n\tBaseThreadInitThunk [0x00007FFF2161257D+29]\n\tRtlUserThreadStart [0x00007FFF2196AA68+40]\n",
     "output_type": "error",
     "traceback": [
      "\u001b[1;31m---------------------------------------------------------------------------\u001b[0m",
      "\u001b[1;31mInvalidSessionIdException\u001b[0m                 Traceback (most recent call last)",
      "\u001b[1;32mc:\\Users\\flavi\\Orbit\\Projetos\\Extract Images Src from Link\\script.ipynb Cell 5\u001b[0m line \u001b[0;36m1\n\u001b[1;32m----> <a href='vscode-notebook-cell:/c%3A/Users/flavi/Orbit/Projetos/Extract%20Images%20Src%20from%20Link/script.ipynb#W6sZmlsZQ%3D%3D?line=0'>1</a>\u001b[0m driver\u001b[39m.\u001b[39;49mclose()\n",
      "File \u001b[1;32mc:\\Users\\flavi\\Orbit\\Projetos\\Extract Images Src from Link\\venv\\lib\\site-packages\\selenium\\webdriver\\remote\\webdriver.py:455\u001b[0m, in \u001b[0;36mWebDriver.close\u001b[1;34m(self)\u001b[0m\n\u001b[0;32m    447\u001b[0m \u001b[39mdef\u001b[39;00m \u001b[39mclose\u001b[39m(\u001b[39mself\u001b[39m) \u001b[39m-\u001b[39m\u001b[39m>\u001b[39m \u001b[39mNone\u001b[39;00m:\n\u001b[0;32m    448\u001b[0m \u001b[39m    \u001b[39m\u001b[39m\"\"\"Closes the current window.\u001b[39;00m\n\u001b[0;32m    449\u001b[0m \n\u001b[0;32m    450\u001b[0m \u001b[39m    :Usage:\u001b[39;00m\n\u001b[1;32m   (...)\u001b[0m\n\u001b[0;32m    453\u001b[0m \u001b[39m            driver.close()\u001b[39;00m\n\u001b[0;32m    454\u001b[0m \u001b[39m    \"\"\"\u001b[39;00m\n\u001b[1;32m--> 455\u001b[0m     \u001b[39mself\u001b[39;49m\u001b[39m.\u001b[39;49mexecute(Command\u001b[39m.\u001b[39;49mCLOSE)\n",
      "File \u001b[1;32mc:\\Users\\flavi\\Orbit\\Projetos\\Extract Images Src from Link\\venv\\lib\\site-packages\\selenium\\webdriver\\remote\\webdriver.py:344\u001b[0m, in \u001b[0;36mWebDriver.execute\u001b[1;34m(self, driver_command, params)\u001b[0m\n\u001b[0;32m    342\u001b[0m response \u001b[39m=\u001b[39m \u001b[39mself\u001b[39m\u001b[39m.\u001b[39mcommand_executor\u001b[39m.\u001b[39mexecute(driver_command, params)\n\u001b[0;32m    343\u001b[0m \u001b[39mif\u001b[39;00m response:\n\u001b[1;32m--> 344\u001b[0m     \u001b[39mself\u001b[39;49m\u001b[39m.\u001b[39;49merror_handler\u001b[39m.\u001b[39;49mcheck_response(response)\n\u001b[0;32m    345\u001b[0m     response[\u001b[39m\"\u001b[39m\u001b[39mvalue\u001b[39m\u001b[39m\"\u001b[39m] \u001b[39m=\u001b[39m \u001b[39mself\u001b[39m\u001b[39m.\u001b[39m_unwrap_value(response\u001b[39m.\u001b[39mget(\u001b[39m\"\u001b[39m\u001b[39mvalue\u001b[39m\u001b[39m\"\u001b[39m, \u001b[39mNone\u001b[39;00m))\n\u001b[0;32m    346\u001b[0m     \u001b[39mreturn\u001b[39;00m response\n",
      "File \u001b[1;32mc:\\Users\\flavi\\Orbit\\Projetos\\Extract Images Src from Link\\venv\\lib\\site-packages\\selenium\\webdriver\\remote\\errorhandler.py:229\u001b[0m, in \u001b[0;36mErrorHandler.check_response\u001b[1;34m(self, response)\u001b[0m\n\u001b[0;32m    227\u001b[0m         alert_text \u001b[39m=\u001b[39m value[\u001b[39m\"\u001b[39m\u001b[39malert\u001b[39m\u001b[39m\"\u001b[39m]\u001b[39m.\u001b[39mget(\u001b[39m\"\u001b[39m\u001b[39mtext\u001b[39m\u001b[39m\"\u001b[39m)\n\u001b[0;32m    228\u001b[0m     \u001b[39mraise\u001b[39;00m exception_class(message, screen, stacktrace, alert_text)  \u001b[39m# type: ignore[call-arg]  # mypy is not smart enough here\u001b[39;00m\n\u001b[1;32m--> 229\u001b[0m \u001b[39mraise\u001b[39;00m exception_class(message, screen, stacktrace)\n",
      "\u001b[1;31mInvalidSessionIdException\u001b[0m: Message: invalid session id\nStacktrace:\n\tGetHandleVerifier [0x00007FF79D1552A2+57122]\n\t(No symbol) [0x00007FF79D0CEA92]\n\t(No symbol) [0x00007FF79CF9E25D]\n\t(No symbol) [0x00007FF79CFCCCFE]\n\t(No symbol) [0x00007FF79CFF6ED2]\n\t(No symbol) [0x00007FF79CFF2E65]\n\t(No symbol) [0x00007FF79CFF2780]\n\t(No symbol) [0x00007FF79CF74270]\n\tGetHandleVerifier [0x00007FF79D3FEF82+2849794]\n\tGetHandleVerifier [0x00007FF79D451D24+3189156]\n\tGetHandleVerifier [0x00007FF79D44ACAF+3160367]\n\tGetHandleVerifier [0x00007FF79D1E6D06+653702]\n\t(No symbol) [0x00007FF79D0DA208]\n\t(No symbol) [0x00007FF79CF730E5]\n\tGetHandleVerifier [0x00007FF79D488E08+3414664]\n\tBaseThreadInitThunk [0x00007FFF2161257D+29]\n\tRtlUserThreadStart [0x00007FFF2196AA68+40]\n"
     ]
    }
   ],
   "source": [
    "driver.close()\n"
   ]
  },
  {
   "cell_type": "code",
   "execution_count": 21,
   "metadata": {},
   "outputs": [],
   "source": []
  },
  {
   "cell_type": "code",
   "execution_count": null,
   "metadata": {},
   "outputs": [],
   "source": []
  }
 ],
 "metadata": {
  "kernelspec": {
   "display_name": "venv",
   "language": "python",
   "name": "python3"
  },
  "language_info": {
   "codemirror_mode": {
    "name": "ipython",
    "version": 3
   },
   "file_extension": ".py",
   "mimetype": "text/x-python",
   "name": "python",
   "nbconvert_exporter": "python",
   "pygments_lexer": "ipython3",
   "version": "3.10.11"
  },
  "orig_nbformat": 4
 },
 "nbformat": 4,
 "nbformat_minor": 2
}
